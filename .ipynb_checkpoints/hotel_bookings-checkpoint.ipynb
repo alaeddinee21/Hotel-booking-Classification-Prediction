{
  "nbformat": 4,
  "nbformat_minor": 0,
  "metadata": {
    "colab": {
      "private_outputs": true,
      "provenance": [],
      "toc_visible": true
    },
    "kernelspec": {
      "name": "python3",
      "display_name": "Python 3"
    },
    "language_info": {
      "name": "python"
    }
  },
  "cells": [
    {
      "cell_type": "code",
      "source": [
        "!pip install datetime ydata_profiling category_encoders"
      ],
      "metadata": {
        "id": "eqY0PxpscS6N"
      },
      "execution_count": null,
      "outputs": []
    },
    {
      "cell_type": "code",
      "execution_count": null,
      "metadata": {
        "id": "dMd15sJXYbek"
      },
      "outputs": [],
      "source": [
        "import pandas as pd\n",
        "import numpy as np\n",
        "import matplotlib.pyplot as plt\n",
        "import seaborn as sns\n",
        "from sklearn.preprocessing import StandardScaler\n",
        "from sklearn.preprocessing import OneHotEncoder\n",
        "from category_encoders import TargetEncoder\n",
        "from sklearn.compose import ColumnTransformer\n",
        "from sklearn.preprocessing import MinMaxScaler\n",
        "from sklearn.model_selection import train_test_split\n",
        "from tensorflow.keras.models import Sequential\n",
        "from tensorflow.keras.layers import Dense\n",
        "from keras.optimizers import Adam\n",
        "import warnings\n",
        "warnings.filterwarnings(\"ignore\")\n",
        "from datetime import datetime\n",
        "sns.set_theme(style=\"darkgrid\")"
      ]
    },
    {
      "cell_type": "markdown",
      "source": [
        "#EDA"
      ],
      "metadata": {
        "id": "rq5w3MDGa0lC"
      }
    },
    {
      "cell_type": "markdown",
      "source": [
        "## Data Structure"
      ],
      "metadata": {
        "id": "9R7Joe9xxhPM"
      }
    },
    {
      "cell_type": "code",
      "source": [
        "hotel=pd.read_csv(\"/content/drive/MyDrive/hotelbookingANN/hotel_bookings.csv\")\n",
        "hotel"
      ],
      "metadata": {
        "id": "B0-LQDH5ZqFB"
      },
      "execution_count": null,
      "outputs": []
    },
    {
      "cell_type": "code",
      "source": [
        "from ydata_profiling import ProfileReport\n",
        "profile = ProfileReport(hotel, title=\"Profiling Report\")"
      ],
      "metadata": {
        "id": "XhGn1t_MHG73"
      },
      "execution_count": null,
      "outputs": []
    },
    {
      "cell_type": "code",
      "source": [
        "profile"
      ],
      "metadata": {
        "id": "gsE74CbNABwh"
      },
      "execution_count": null,
      "outputs": []
    },
    {
      "cell_type": "markdown",
      "source": [
        "this gives us a long detailed detailed profiling of the data"
      ],
      "metadata": {
        "id": "fdjl78k48zZd"
      }
    },
    {
      "cell_type": "markdown",
      "source": [],
      "metadata": {
        "id": "1Z25ZvxK8y5B"
      }
    },
    {
      "cell_type": "code",
      "source": [
        "from dateutil.relativedelta import relativedelta\n",
        "date_format='%Y-%m-%d'\n",
        "first_day=\"2015-07-01\"\n",
        "last_day=\"2017-08-31\"\n",
        "first_day=pd.to_datetime(first_day,format=date_format)\n",
        "last_day=pd.to_datetime(last_day,format=date_format)\n",
        "difference=relativedelta(last_day,first_day)\n",
        "print(f\"the period of the study is {difference.years} years {difference.months} months and {difference.days} days\")"
      ],
      "metadata": {
        "id": "Q5EnXMGwcxd5"
      },
      "execution_count": null,
      "outputs": []
    },
    {
      "cell_type": "markdown",
      "source": [
        "we can see that the study period is 2 years and 1 month and 30 days"
      ],
      "metadata": {
        "id": "kh1o4-9IszkD"
      }
    },
    {
      "cell_type": "code",
      "source": [
        "hotel.shape"
      ],
      "metadata": {
        "id": "BfYpoTNDaWU7"
      },
      "execution_count": null,
      "outputs": []
    },
    {
      "cell_type": "markdown",
      "source": [
        "we had at the begining of the study 32 variables and 119390 observations"
      ],
      "metadata": {
        "id": "h6EG2cUus9r8"
      }
    },
    {
      "cell_type": "code",
      "source": [
        "hotel.head()"
      ],
      "metadata": {
        "id": "E5HyHmyoaYli"
      },
      "execution_count": null,
      "outputs": []
    },
    {
      "cell_type": "code",
      "source": [
        "hotel.tail()"
      ],
      "metadata": {
        "id": "FyyFO97fayyy"
      },
      "execution_count": null,
      "outputs": []
    },
    {
      "cell_type": "code",
      "source": [
        "hotel.info()"
      ],
      "metadata": {
        "id": "cd5TyVotbDEs"
      },
      "execution_count": null,
      "outputs": []
    },
    {
      "cell_type": "code",
      "source": [
        "print(hotel.select_dtypes(include=['object']).nunique())\n",
        "hotel['assigned_room_type'].value_counts()"
      ],
      "metadata": {
        "id": "GLyBbWUT4nR9"
      },
      "execution_count": null,
      "outputs": []
    },
    {
      "cell_type": "code",
      "source": [
        "hotel['arrival_date_month'].value_counts()"
      ],
      "metadata": {
        "id": "Kc0Xf2VT-Sbd"
      },
      "execution_count": null,
      "outputs": []
    },
    {
      "cell_type": "code",
      "source": [
        "print(hotel.select_dtypes(include=['int64']).nunique())"
      ],
      "metadata": {
        "id": "2WbHzV5q46bd"
      },
      "execution_count": null,
      "outputs": []
    },
    {
      "cell_type": "code",
      "source": [
        "hotel['hotel'].value_counts()\n",
        "hotel['hotel'].value_counts(normalize=True)*100"
      ],
      "metadata": {
        "id": "5s0ET-uJbzUC"
      },
      "execution_count": null,
      "outputs": []
    },
    {
      "cell_type": "markdown",
      "source": [
        "we can see that the costumers mostly book at city hotel with 67% and resort hotel with 33%."
      ],
      "metadata": {
        "id": "pKKQjvXCvkpw"
      }
    },
    {
      "cell_type": "code",
      "source": [
        "hotel.isnull().sum()"
      ],
      "metadata": {
        "id": "5AyEsNhfucKX"
      },
      "execution_count": null,
      "outputs": []
    },
    {
      "cell_type": "markdown",
      "source": [
        "while checking the NA's of all variables we can see that the country has 488 missing values and children variables has 4 missing variables."
      ],
      "metadata": {
        "id": "MNIEqVRrwrwW"
      }
    },
    {
      "cell_type": "markdown",
      "source": [
        "## Categorization of Variables\n",
        "\n",
        "In our analysis of the hotel booking dataset, we've identified various categories of variables that provide valuable insights into the booking process. By organizing these variables into distinct groups, we can effectively study and understand different aspects of hotel bookings. Below are the categorized variables:\n",
        "\n",
        "## 1. Booking time Information:\n",
        "- **is_canceled**\n",
        "- **lead_time**\n",
        "- **arrival_date_year**\n",
        "- **arrival_date_month**\n",
        "- **arrival_date_week_number**\n",
        "- **arrival_date_day_of_month**\n",
        "- **stays_in_weekend_nights**\n",
        "- **stays_in_week_nights**\n",
        "\n",
        "## 2. Guest Information:\n",
        "- **adults**\n",
        "- **children**\n",
        "- **babies**\n",
        "- **meal**\n",
        "- **country**\n",
        "## 3. Booking Details:\n",
        "\n",
        "- **market_segment**\n",
        "- **distribution_channel**\n",
        "- **is_repeated_guest**\n",
        "- **previous_cancellations**\n",
        "- **previous_bookings_not_canceled**\n",
        "- **reserved_room_type**\n",
        "- **assigned_room_type**\n",
        "- **booking_changes**\n",
        "- **deposit_type**\n",
        "- **days_in_waiting_list**\n",
        "- **customer_type**\n",
        "- **adr (Average Daily Rate)**\n",
        "- **required_car_parking_spaces**\n",
        "- **total_of_special_requests**\n",
        "\n",
        "## 4. Reservation Status:\n",
        "- **reservation_status**\n",
        "- **reservation_status_date**\n",
        "\n"
      ],
      "metadata": {
        "id": "OS-v_gb_xrMj"
      }
    },
    {
      "cell_type": "markdown",
      "source": [
        "##uni-variate analysis"
      ],
      "metadata": {
        "id": "3nEzz4xzzsrf"
      }
    },
    {
      "cell_type": "markdown",
      "source": [
        "###Target Variable"
      ],
      "metadata": {
        "id": "ln4NMzxfND5n"
      }
    },
    {
      "cell_type": "code",
      "source": [
        "hotel['is_canceled'].value_counts(normalize=True)*100\n",
        "percentages=hotel['is_canceled'].value_counts()/sum(hotel['is_canceled'].value_counts())\n",
        "print(percentages)"
      ],
      "metadata": {
        "id": "WdgItJL62wbz"
      },
      "execution_count": null,
      "outputs": []
    },
    {
      "cell_type": "code",
      "source": [
        "sns.countplot(hotel,x='is_canceled',palette='mako')"
      ],
      "metadata": {
        "id": "9HrZ1GlhzsFN"
      },
      "execution_count": null,
      "outputs": []
    },
    {
      "cell_type": "markdown",
      "source": [
        "from the data set we can observe that firstly the data is balanced and well put together and there is more people who didnt cancel more then people who cancelled with 37% and who didnt with 63%"
      ],
      "metadata": {
        "id": "hElILRDI05Hu"
      }
    },
    {
      "cell_type": "code",
      "source": [
        "colors = sns.color_palette(\"mako\", len(hotel['is_canceled'].value_counts()))\n",
        "hotel['is_canceled'].value_counts().plot.pie(autopct=\"%1.1f%%\", colors=colors, figsize=(8, 8))\n",
        "plt.title('Pie Chart of Booking Cancellations')\n",
        "plt.ylabel('')"
      ],
      "metadata": {
        "id": "t5e-5R8rOWG_"
      },
      "execution_count": null,
      "outputs": []
    },
    {
      "cell_type": "markdown",
      "source": [
        "the data isnt extremely imbalanced but still there is some form of imbalacing"
      ],
      "metadata": {
        "id": "GwxfkYIKINXI"
      }
    },
    {
      "cell_type": "code",
      "source": [
        "plt.figure(figsize=(12,8))\n",
        "num_cols = hotel.select_dtypes(include=[\"int64\", \"float64\", \"category\"]).columns\n",
        "corr=hotel[num_cols].corr()\n",
        "sns.heatmap(corr,annot=True, fmt=\".2f\", cmap='Blues', vmin=-1, vmax=1)"
      ],
      "metadata": {
        "id": "GDwmG3F0SuVD"
      },
      "execution_count": null,
      "outputs": []
    },
    {
      "cell_type": "markdown",
      "source": [
        "we can see in genral weak correlation between the variable **is_canceled** and other variables with lead_time being the strongest positive correlation of 0.29 and booking changes being the strongest negative correlation, and other correlations:\n",
        "\n",
        "-Arrival Date Week Number (0.008): Very weak positive correlation\n",
        "\n",
        "-Arrival Date Day of Month (-0.006): Very weak negative correlation\n",
        "\n",
        "-Stays in Weekend Nights (-0.002): Very weak negative correlation\n",
        "\n",
        "-Stays in Week Nights (0.025): Very weak positive correlation\n",
        "\n",
        "-Adults (0.060): Very weak positive correlation\n",
        "\n",
        "-Children (0.005): Very weak positive correlation\n",
        "\n",
        "-Previous Cancellations (0.110): Very weak positive correlation\n",
        "\n",
        "-Previous Bookings Not Canceled (-0.057): Very weak negative correlation\n",
        "\n",
        "-Days in Waiting List (0.054): Very weak positive correlation\n",
        "\n",
        "-ADR (Average Daily Rate) (0.048): Very weak positive correlation\n"
      ],
      "metadata": {
        "id": "nN2CNubOZuHE"
      }
    },
    {
      "cell_type": "markdown",
      "source": [
        "###Booking Time Informations"
      ],
      "metadata": {
        "id": "zLrWfJoHIpv5"
      }
    },
    {
      "cell_type": "markdown",
      "source": [
        "####Numerical Features"
      ],
      "metadata": {
        "id": "hr7s8LT2MF95"
      }
    },
    {
      "cell_type": "code",
      "source": [
        "plt.figure(figsize=(12,8))\n",
        "sns.displot(hotel,x='lead_time',kde=True,binwidth=8,palette='mako')\n",
        "plt.title(\"Histogram of Elapsed Time Between Booking and Arrival\")"
      ],
      "metadata": {
        "id": "1pMtY6MC2-xY"
      },
      "execution_count": null,
      "outputs": []
    },
    {
      "cell_type": "markdown",
      "source": [
        "we can see that most people who did book and arrive at the same day are high as the histogram shows and we can see that the more days get high the less count there is , we can see that most people book on arrival day"
      ],
      "metadata": {
        "id": "X9oLi9lg3TZv"
      }
    },
    {
      "cell_type": "code",
      "source": [
        "plt.figure(figsize=(12,8))\n",
        "sns.displot(hotel,x='arrival_date_week_number',kde=True,binwidth=1,palette='mako')\n",
        "plt.title(\"arrival date for weeks\")"
      ],
      "metadata": {
        "id": "4HnjSLXD4Oix"
      },
      "execution_count": null,
      "outputs": []
    },
    {
      "cell_type": "markdown",
      "source": [
        "The histogram illustrates the distribution of arrivals over a span of weeks. The peak occurrence of arrivals is observed at week 33, indicating a higher concentration of people arriving during this period. As we move away from this peak week in either direction, the frequency of arrivals gradually dicreases"
      ],
      "metadata": {
        "id": "Fn-o_qX-D2Le"
      }
    },
    {
      "cell_type": "markdown",
      "source": [
        "he countplot effectively visualizes the distribution of arrivals across different months, revealing interesting patterns in booking behavior. The peak occurrence of bookings is observed in August, coinciding with hot weather and vacation periods in many regions. This surge in bookings suggests a preference for tropical vacation destinations during warmer months. Conversely, there is a noticeable decrease in bookings during colder months like November, December, and January, which aligns with reduced interest in ski vacations or destinations with icy weather. This analysis implies that the hotels in question are likely situated in tropical vacation destinations, catering to travelers seeking beach getaways or warm-weather experiences"
      ],
      "metadata": {
        "id": "NCKRKzFUF7Ga"
      }
    },
    {
      "cell_type": "code",
      "source": [
        "hotel['arrival_date_day_of_month'].value_counts()"
      ],
      "metadata": {
        "id": "_V5CKE-KF4Ci"
      },
      "execution_count": null,
      "outputs": []
    },
    {
      "cell_type": "code",
      "source": [
        "sns.catplot(hotel,x='arrival_date_day_of_month',palette=\"mako\",kind='count')\n",
        "plt.title(\"arrival_date_day_of_month\")"
      ],
      "metadata": {
        "id": "6yI-F6iTJN0J"
      },
      "execution_count": null,
      "outputs": []
    },
    {
      "cell_type": "code",
      "source": [
        "sns.displot(hotel,x='arrival_date_day_of_month',discrete=True)"
      ],
      "metadata": {
        "id": "aZrdA7oCwga2"
      },
      "execution_count": null,
      "outputs": []
    },
    {
      "cell_type": "code",
      "source": [
        "hotel['stays_in_weekend_nights'].value_counts()"
      ],
      "metadata": {
        "id": "_-DOJhAnN3u6"
      },
      "execution_count": null,
      "outputs": []
    },
    {
      "cell_type": "code",
      "source": [
        "fig, ax = plt.subplots(1, 2, figsize=(16,8))\n",
        "sns.countplot(data=hotel, x='stays_in_weekend_nights', palette='mako', ax=ax[0])\n",
        "ax[0].set_title(\"Stays in Weekend Nights per Arrival\")\n",
        "sns.countplot(data=hotel, x='stays_in_week_nights', palette='mako', ax=ax[1])\n",
        "ax[1].set_title(\"Stays in Week Nights\")\n",
        "plt.tight_layout()\n",
        "plt.show()"
      ],
      "metadata": {
        "id": "ukZeYgWKMN8N"
      },
      "execution_count": null,
      "outputs": []
    },
    {
      "cell_type": "markdown",
      "source": [
        "For stays_in_weekend_nights, we observe that the majority of reservations, over 50,000 in total, do not include weekend nights. This indicates a preference for bookings during the weekdays. However, there are notable counts for stays of 1 and 2 weekend nights, suggesting that while less common, some guests do opt for short weekend getaways.\n",
        "\n",
        "On the other hand, the stays_in_week_nights plot shows a more varied distribution. There are significant peaks at 1, 2, and 3 nights, indicating that these durations are particularly popular among guests. The most common length of stay for weekday nights is 2 nights, followed closely by 1 and 3 nights. This pattern suggests that guests frequently book midweek stays, likely for business trips or short vacations that span the weekdays."
      ],
      "metadata": {
        "id": "1Hp9WywsP1kf"
      }
    },
    {
      "cell_type": "markdown",
      "source": [
        "####Categorical features"
      ],
      "metadata": {
        "id": "eBtRxfH3L_xO"
      }
    },
    {
      "cell_type": "code",
      "source": [
        "plt.figure(figsize=(12,8))\n",
        "sns.countplot(hotel,x='arrival_date_month',palette='mako')\n",
        "plt.title(\"arrival date for months\")"
      ],
      "metadata": {
        "id": "DZ0j24UKD9RX"
      },
      "execution_count": null,
      "outputs": []
    },
    {
      "cell_type": "markdown",
      "source": [
        "The histogram of arrivals by the day of the month shows a relatively stable distribution, with most values ranging between 2000 and 4000 arrivals. A notable peak is observed on the 17th day, with the number of arrivals reaching approximately 4400. Conversely, the number of arrivals is significantly lower on the 31st day, with only about 2208 arrivals. This suggests that certain days of the month, like the 17th, are more popular for arrivals, while others, particularly the 31st, see fewer arrivals. This pattern may be influenced by factors such as the length of the month, weekends, holidays, and other external factors affecting booking preferences"
      ],
      "metadata": {
        "id": "2fWz5F3SKP8k"
      }
    },
    {
      "cell_type": "markdown",
      "source": [
        "###Guest Informations"
      ],
      "metadata": {
        "id": "KP0bMVEoU5hY"
      }
    },
    {
      "cell_type": "code",
      "source": [
        "fig, ax = plt.subplots(1, 2, figsize=(16,8))\n",
        "sns.countplot(data=hotel, x='adults', palette='mako', ax=ax[0])\n",
        "ax[0].set_title(\"adults per arrival\")\n",
        "sns.countplot(data=hotel, x='children', palette='mako', ax=ax[1])\n",
        "ax[1].set_title(\"children per arrival\")\n",
        "plt.tight_layout()"
      ],
      "metadata": {
        "id": "idEj5BRhcFTc"
      },
      "execution_count": null,
      "outputs": []
    },
    {
      "cell_type": "markdown",
      "source": [
        "The countplots reveals that the majority of guests at these hotels are composed of 2 adults with no accompanying children. This pattern suggests that the hotels are popular among couples, likely for romantic getaways or work-related trips. This insight into guest composition highlights the preferences of the customer base, indicating a significant demand for accommodations suitable for couples.\n",
        "\n",
        "Additionally, there are notable instances of solo trips and groups of three adults. The presence of solo travelers points to a segment of guests likely visiting for business purposes or individual leisure trips. Meanwhile, groups of three adults suggest occasional trips involving friends or small family groups\n",
        "we can also see 10 in the countplot"
      ],
      "metadata": {
        "id": "Rp-UHCy3eMdi"
      }
    },
    {
      "cell_type": "code",
      "source": [
        "sns.countplot(data=hotel, x='babies', palette='mako')\n",
        "plt.title(\"babies per arrival\")\n"
      ],
      "metadata": {
        "id": "aITVhTS5dRCs"
      },
      "execution_count": null,
      "outputs": []
    },
    {
      "cell_type": "markdown",
      "source": [
        "we can see a very low percentage of babies which indicates that these hotels are not children friendly almost 99%"
      ],
      "metadata": {
        "id": "Y5lrKFR3fvi7"
      }
    },
    {
      "cell_type": "code",
      "source": [
        "sns.countplot(hotel,x='meal',palette='mako')\n",
        "plt.title(\"meal per arrival\")"
      ],
      "metadata": {
        "id": "DMeerCiCfu3B"
      },
      "execution_count": null,
      "outputs": []
    },
    {
      "cell_type": "markdown",
      "source": [
        "The countplot of meal types reveals that the majority of bookings are associated with the Bed & Breakfast (BB) meal plan, indicating a preference for convenience and relaxation without worrying about morning meals. Half Board (HB) bookings, including breakfast and another meal, are less common, suggesting guests may prefer dining flexibility or exploring local restaurants. Some guests opt for the Self Catering (SC) option, indicating a desire for autonomy or budget-friendly choices. However, there are instances of undefined meal plans, which require further investigation for data quality improvement. Full Board (FB) bookings, encompassing all meals, are relatively less frequent, possibly due to guests preferring dining flexibility or exploring outside dining options.\n",
        "\n",
        "\n",
        "\n",
        "\n",
        "\n",
        "\n"
      ],
      "metadata": {
        "id": "XO2fm4QmhpK8"
      }
    },
    {
      "cell_type": "code",
      "source": [
        "plt.figure(figsize=(12, 6))\n",
        "top_countries = hotel['country'].value_counts().head(11)\n",
        "other_countries_count = hotel['country'].value_counts().sum() - top_countries.sum()\n",
        "top_countries['Others'] = other_countries_count\n",
        "\n",
        "sns.catplot(x=top_countries.index, y=top_countries.values, palette='mako',kind=\"bar\")\n",
        "plt.title('Top Countries vs. Others with Bookings')\n",
        "plt.xlabel('Country')\n",
        "plt.ylabel('Count of Bookings')\n",
        "plt.xticks(rotation=45)\n",
        "plt.show()\n"
      ],
      "metadata": {
        "id": "dMQ9kNVYieW6"
      },
      "execution_count": null,
      "outputs": []
    },
    {
      "cell_type": "markdown",
      "source": [
        "The predominance of visitors from Portugal suggests that the location might be a Mediterranean country or a neighboring country like Spain. Additionally, considering historical ties, Brazil could also be a significant contributor to the visitor count."
      ],
      "metadata": {
        "id": "1gAYkJNPnwPj"
      }
    },
    {
      "cell_type": "markdown",
      "source": [
        "###Booking Informations"
      ],
      "metadata": {
        "id": "DP597ZQLpYjI"
      }
    },
    {
      "cell_type": "markdown",
      "source": [
        "####Numerical features"
      ],
      "metadata": {
        "id": "Kb8Etko1aMrl"
      }
    },
    {
      "cell_type": "code",
      "source": [
        "hotel['required_car_parking_spaces'].value_counts()"
      ],
      "metadata": {
        "id": "qnjQc7b3psdt"
      },
      "execution_count": null,
      "outputs": []
    },
    {
      "cell_type": "markdown",
      "source": [],
      "metadata": {
        "id": "xkFMMb2LX4SO"
      }
    },
    {
      "cell_type": "code",
      "source": [
        "plt.figure(figsize=(12, 6))\n",
        "sns.displot(hotel['adr'], kde=True, bins=30, palette='mako')\n",
        "plt.title('Distribution of Average Daily Rate (ADR)')"
      ],
      "metadata": {
        "id": "LGSHk0U4X4ua"
      },
      "execution_count": null,
      "outputs": []
    },
    {
      "cell_type": "markdown",
      "source": [
        "The Average Daily Rate (ADR) is a key metric in the hospitality industry that calculates the average revenue earned per room, per day. It's calculated by dividing the total revenue generated from room sales (lodging transactions) by the total number of staying nights.\n",
        "and as we can see there is a problem with this variable that can indicate outliers problem"
      ],
      "metadata": {
        "id": "YujsRPHLlmvS"
      }
    },
    {
      "cell_type": "code",
      "source": [
        "plt.figure(figsize=(12, 6))\n",
        "sns.displot(hotel['booking_changes'], bins=30, palette='mako')\n",
        "plt.title('Distribution of Booking Changes')\n",
        "plt.show()"
      ],
      "metadata": {
        "id": "An2d3uZ_ZDwy"
      },
      "execution_count": null,
      "outputs": []
    },
    {
      "cell_type": "markdown",
      "source": [
        "most of people didnt make booking changes almost 90%, which suggests that people are confident in their choices or the hotel meet with the people prefrences or at least the hotel discourages changes in their plans"
      ],
      "metadata": {
        "id": "t582M9wJ2ucL"
      }
    },
    {
      "cell_type": "code",
      "source": [
        "plt.figure(figsize=(12, 6))\n",
        "sns.displot(hotel['days_in_waiting_list'], kde=True, bins=30, palette='mako')\n",
        "plt.title('Distribution of Days in Waiting List')\n",
        "plt.show()"
      ],
      "metadata": {
        "id": "LMiQH4kPaA86"
      },
      "execution_count": null,
      "outputs": []
    },
    {
      "cell_type": "markdown",
      "source": [
        "we can see that most of people didnt wait in the waitlist with suggests the availibility in of rooms to be booked in these hotels or suggests the good organization of the hotel booking arrangments yet the next value is 39 days which suggest that sometimes am extereme cases could happen"
      ],
      "metadata": {
        "id": "dfVH7Deb4Kcv"
      }
    },
    {
      "cell_type": "code",
      "source": [
        "plt.figure(figsize=(12, 8))\n",
        "sns.displot(data=hotel, x='previous_bookings_not_canceled', kde=True, palette='mako')\n",
        "plt.title('Count of Bookings by previous booking not canceled')\n",
        "plt.show()"
      ],
      "metadata": {
        "id": "SLC95ungBFQv"
      },
      "execution_count": null,
      "outputs": []
    },
    {
      "cell_type": "markdown",
      "source": [
        "####Categorical Data"
      ],
      "metadata": {
        "id": "MFHuDhzOfD_K"
      }
    },
    {
      "cell_type": "code",
      "source": [
        "plt.figure(figsize=(12, 8))\n",
        "sns.countplot(data=hotel, x='total_of_special_requests', palette='mako')\n",
        "plt.title('Count of Total of Special Requests')\n",
        "plt.show()"
      ],
      "metadata": {
        "id": "AXMN3wEZcWsD"
      },
      "execution_count": null,
      "outputs": []
    },
    {
      "cell_type": "markdown",
      "source": [
        "most poeple didnt ask for special requests and at least 50k asked for one special request or more"
      ],
      "metadata": {
        "id": "YMm9YEd85Tn6"
      }
    },
    {
      "cell_type": "code",
      "source": [
        "plt.figure(figsize=(12, 8))\n",
        "sns.countplot(data=hotel, x='required_car_parking_spaces', palette='mako')\n",
        "plt.title('Count of Required Car Parking Spaces')\n",
        "plt.show()"
      ],
      "metadata": {
        "id": "_b9pdGeSbG34"
      },
      "execution_count": null,
      "outputs": []
    },
    {
      "cell_type": "markdown",
      "source": [
        "most people didnt include parking spaces in their plans which suggest that most people came to enjoy more like a hiking journey or a beach journey or these people are from outside the country"
      ],
      "metadata": {
        "id": "z2I82HyI8CYa"
      }
    },
    {
      "cell_type": "code",
      "source": [
        "sns.countplot(hotel,x='market_segment',palette='mako')\n",
        "plt.title(\"market_segment per arrival\")\n",
        "plt.xticks(rotation=45)\n",
        "plt.show()"
      ],
      "metadata": {
        "id": "VHstkP_yXjAz"
      },
      "execution_count": null,
      "outputs": []
    },
    {
      "cell_type": "markdown",
      "source": [
        "we can see that these hotel mostly got targeted people who book through online agencies"
      ],
      "metadata": {
        "id": "UL7D4u0L970x"
      }
    },
    {
      "cell_type": "code",
      "source": [
        "plt.figure(figsize=(12, 8))\n",
        "sns.countplot(data=hotel, x='distribution_channel', palette='mako')\n",
        "plt.title('Distribution Channel per Arrival')\n",
        "plt.show()"
      ],
      "metadata": {
        "id": "ukuBpqblcR7l"
      },
      "execution_count": null,
      "outputs": []
    },
    {
      "cell_type": "markdown",
      "source": [
        "and most people booked through online agents or operations tours"
      ],
      "metadata": {
        "id": "WRza6a-T-9RJ"
      }
    },
    {
      "cell_type": "code",
      "source": [
        "plt.figure(figsize=(12, 8))\n",
        "sns.countplot(data=hotel, x='is_repeated_guest', palette='mako')\n",
        "plt.title('Repeated vs. Non-repeated Guests')\n",
        "plt.show()"
      ],
      "metadata": {
        "id": "i0XsMTVEcszc"
      },
      "execution_count": null,
      "outputs": []
    },
    {
      "cell_type": "markdown",
      "source": [
        "most people are not loyal costumers but new to these hotels which suggests the idea of first experience"
      ],
      "metadata": {
        "id": "Qhz3ggvK_oi1"
      }
    },
    {
      "cell_type": "code",
      "source": [
        "plt.figure(figsize=(12, 8))\n",
        "sns.countplot(data=hotel, x='deposit_type', palette='mako')\n",
        "plt.title('Deposit Type per Arrival')\n",
        "plt.show()"
      ],
      "metadata": {
        "id": "wdA2Zv4kcwc4"
      },
      "execution_count": null,
      "outputs": []
    },
    {
      "cell_type": "markdown",
      "source": [
        "most people didnt diposit any money which will indicate the idea people not sure of their booking or can not trust to a point of putting a diposit"
      ],
      "metadata": {
        "id": "NyklROny_8kp"
      }
    },
    {
      "cell_type": "code",
      "source": [
        "plt.figure(figsize=(12, 8))\n",
        "sns.countplot(data=hotel, x='assigned_room_type', palette='mako')\n",
        "plt.title('Assigned Room Type per Arrival')\n",
        "plt.xticks(rotation=45)\n",
        "plt.show()"
      ],
      "metadata": {
        "id": "z8eMTWZic0Vs"
      },
      "execution_count": null,
      "outputs": []
    },
    {
      "cell_type": "markdown",
      "source": [
        "most people were assigned a room of type A"
      ],
      "metadata": {
        "id": "xWx4KlsCAVTF"
      }
    },
    {
      "cell_type": "code",
      "source": [
        "plt.figure(figsize=(12, 8))\n",
        "sns.countplot(data=hotel, x='customer_type', palette='mako')\n",
        "plt.title('Customer Type per Arrival')\n",
        "plt.xticks(rotation=45)\n",
        "plt.show()"
      ],
      "metadata": {
        "id": "9-dpG4lvc8w-"
      },
      "execution_count": null,
      "outputs": []
    },
    {
      "cell_type": "markdown",
      "source": [
        "###Booking Status Information:"
      ],
      "metadata": {
        "id": "CJE-0PGAgFnq"
      }
    },
    {
      "cell_type": "code",
      "source": [
        "plt.figure(figsize=(12, 8))\n",
        "sns.countplot(data=hotel, x='reservation_status', palette='mako')\n",
        "plt.title('Count of Bookings by Reservation Status')\n",
        "plt.xticks(rotation=45)\n",
        "plt.show()"
      ],
      "metadata": {
        "id": "jBxFh1AodLGk"
      },
      "execution_count": null,
      "outputs": []
    },
    {
      "cell_type": "markdown",
      "source": [
        "we changed the type of the reservation status date to make it compatible to study with\n",
        "also we can see that most chcked out and some canceled and some the system didnt show"
      ],
      "metadata": {
        "id": "B85kaRS8d_Sq"
      }
    },
    {
      "cell_type": "code",
      "source": [
        "plt.figure(figsize=(12, 8))\n",
        "sns.countplot(data=hotel, x='reserved_room_type', palette='mako')\n",
        "plt.title('Count of Bookings by reserved room type')\n",
        "plt.xticks(rotation=45)\n",
        "plt.show()"
      ],
      "metadata": {
        "id": "ZWH9Eg8RBEPu"
      },
      "execution_count": null,
      "outputs": []
    },
    {
      "cell_type": "markdown",
      "source": [
        "this will be explained by the fact that most people , this is their first experience in booking with these hotels"
      ],
      "metadata": {
        "id": "IykgJWZmCIbg"
      }
    },
    {
      "cell_type": "code",
      "source": [
        "plt.figure(figsize=(12, 8))\n",
        "sns.countplot(data=hotel, x='previous_cancellations', palette='mako')\n",
        "plt.title('Count of Bookings by previous cancellation')\n",
        "plt.show()"
      ],
      "metadata": {
        "id": "xyjRIIsNBUvZ"
      },
      "execution_count": null,
      "outputs": []
    },
    {
      "cell_type": "markdown",
      "source": [
        "the same explation with the variable of cancelation"
      ],
      "metadata": {
        "id": "jJPyqyl4Cezg"
      }
    },
    {
      "cell_type": "code",
      "source": [
        "numerical_cols = hotel.select_dtypes(include=['int64', 'float64','category']).columns\n",
        "fig, axes = plt.subplots(nrows=len(numerical_cols), ncols=1, figsize=(10, 5 * len(numerical_cols)))\n",
        "fig.subplots_adjust(hspace=0.5)\n",
        "for i, col in enumerate(numerical_cols):\n",
        "    sns.boxplot(x=hotel[col], ax=axes[i])\n",
        "    axes[i].set_title(col)\n",
        "plt.tight_layout()\n",
        "plt.show()"
      ],
      "metadata": {
        "id": "t9bEvR1dgeTZ"
      },
      "execution_count": null,
      "outputs": []
    },
    {
      "cell_type": "markdown",
      "source": [
        "we can see a lot of outliers in the variables like adr, days in the waiting list, booking changes , previous boooking not canceled , previous cancelations, children which explains the 10 value of children ,adults,stays in week nightsstays in weekend nights lead_time"
      ],
      "metadata": {
        "id": "HiVzAJVZCkwg"
      }
    },
    {
      "cell_type": "markdown",
      "source": [
        "##multi-variate analysis"
      ],
      "metadata": {
        "id": "yCA14lQ6Df20"
      }
    },
    {
      "cell_type": "markdown",
      "source": [
        "##Target Variable with every variable"
      ],
      "metadata": {
        "id": "K356YqfHIbwU"
      }
    },
    {
      "cell_type": "code",
      "source": [
        "sns.countplot(hotel, x= 'hotel',hue='is_canceled',palette='mako')\n",
        "plt.title(\"cancelation rate\")"
      ],
      "metadata": {
        "id": "yelehtkk2o5J"
      },
      "execution_count": null,
      "outputs": []
    },
    {
      "cell_type": "markdown",
      "source": [
        "for the city hotel:\n",
        "\n",
        "High number of bookings: This indicates that the city hotel is a popular choice among customers, possibly due to its location, amenities, or other factors.\n",
        "High cancellation rate: Despite the popularity, the city hotel experiences a substantial number of cancellations, suggesting that customers may be more likely to change their plans or opt for alternative accommodations.\n",
        "\n",
        "For the resort hotel:\n",
        "\n",
        "Lower number of bookings: While the resort hotel has fewer bookings compared to the city hotel, it still attracts a notable number of guests.\n",
        "Lower cancellation rate: Despite the lower volume of bookings, the resort hotel experiences relatively fewer cancellations, indicating that guests may be more committed to their reservations or have fewer reasons to cancel."
      ],
      "metadata": {
        "id": "e6wEs-EnERZr"
      }
    },
    {
      "cell_type": "code",
      "source": [
        "sns.catplot(data=hotel, x='arrival_date_year', hue='is_canceled', col='hotel', palette='mako', kind='count')"
      ],
      "metadata": {
        "id": "TbaNk87iHyH4"
      },
      "execution_count": null,
      "outputs": []
    },
    {
      "cell_type": "markdown",
      "source": [
        "we can see most booking for the hotel happend in the year 2016 and  has the highest booking with no cancelation and also the highest cancelation  and 2015 was a very slow year for city hotel and for resort hotel as well and we can see that 2016 was a busy year for resort hotel as well"
      ],
      "metadata": {
        "id": "pdePJcWuJBeH"
      }
    },
    {
      "cell_type": "code",
      "source": [
        "sns.catplot(data=hotel, x='arrival_date_month', hue='is_canceled', col='hotel', palette='mako', kind='count')\n",
        "plt.xticks(rotation=45)\n",
        "plt.show()"
      ],
      "metadata": {
        "id": "HA0Uzpm4GaTf"
      },
      "execution_count": null,
      "outputs": []
    },
    {
      "cell_type": "markdown",
      "source": [
        "we can notice that both hotels have almost the same type of distrubutions ,we can see"
      ],
      "metadata": {
        "id": "UYF993ipPlx0"
      }
    },
    {
      "cell_type": "markdown",
      "source": [
        "we can see that most people came arround the month august"
      ],
      "metadata": {
        "id": "r1ZPTFyHOTCG"
      }
    },
    {
      "cell_type": "code",
      "source": [
        "sns.catplot(data=hotel, x='adults', hue='is_canceled', col='hotel', palette='mako', kind='count')\n",
        "plt.title('Countplot of adults')\n",
        "plt.xlabel('Adults')\n",
        "plt.ylabel('Count')\n",
        "\n",
        "sns.catplot(data=hotel, x='children', hue='is_canceled', col='hotel', palette='mako', kind='count')\n",
        "plt.title('Countplot of children')\n",
        "plt.xlabel('Children')\n",
        "plt.ylabel('Count')\n",
        "\n",
        "sns.catplot(data=hotel, x='babies', hue='is_canceled', col='hotel', palette='mako', kind='count')\n",
        "plt.title('Countplot of babies')\n",
        "plt.xlabel('Babies')\n",
        "plt.ylabel('Count')\n",
        "\n",
        "sns.catplot(data=hotel, x='meal', hue='is_canceled', col='hotel', palette='mako', kind='count')\n",
        "plt.title('Countplot of meal')\n",
        "plt.xlabel('Meal')\n",
        "plt.ylabel('Count')\n",
        "\n",
        "top_countries = hotel['country'].value_counts().head(11).index\n",
        "countries_11 = hotel[hotel['country'].isin(top_countries)]\n",
        "\n",
        "sns.catplot(data=countries_11, x='country', hue='is_canceled', col='hotel', palette='mako', kind='count')\n",
        "plt.tight_layout()\n",
        "plt.show()\n"
      ],
      "metadata": {
        "id": "BT5kXOhAK8rI"
      },
      "execution_count": null,
      "outputs": []
    },
    {
      "cell_type": "markdown",
      "source": [
        "as a pattern we can see that the personna that embaddies the person who cancels is 2 adults with no children , nor babies ,who prefer brekafast in bed mostly and highly would boook at the city hotel yet distigunily it also almost the samer characteristic for the person who wont cancel , yet people who are from protigual are highly to cancel tehn any other country"
      ],
      "metadata": {
        "id": "-T1frlW7fA_f"
      }
    },
    {
      "cell_type": "code",
      "source": [
        "sns.catplot(data=hotel, x='booking_changes', hue='is_canceled', col='hotel', palette='mako', kind='count')\n",
        "plt.xticks(rotation=45)\n",
        "plt.show()"
      ],
      "metadata": {
        "id": "PHTxvGIugcvz"
      },
      "execution_count": null,
      "outputs": []
    },
    {
      "cell_type": "code",
      "source": [
        "sns.catplot(data=hotel, x='customer_type', hue='is_canceled', col='hotel', palette='mako', kind='count')\n",
        "plt.xticks(rotation=45)\n",
        "plt.show()"
      ],
      "metadata": {
        "id": "dRuNXTQeg98c"
      },
      "execution_count": null,
      "outputs": []
    },
    {
      "cell_type": "markdown",
      "source": [
        "people who are transient-party are less likely to cancel,people who are with contract and goes to resort hotel are less likely to cancel"
      ],
      "metadata": {
        "id": "FnMddxMBh8WK"
      }
    },
    {
      "cell_type": "code",
      "source": [
        "sns.catplot(data=hotel, x='reservation_status', hue='is_canceled', col='hotel', palette='mako', kind='count')\n",
        "plt.show()"
      ],
      "metadata": {
        "id": "BRc-pqq2h7ZU"
      },
      "execution_count": null,
      "outputs": []
    },
    {
      "cell_type": "markdown",
      "source": [
        "when we filter by canceling the reservation status we see that the value No show is all canceled so we came to the conclusion to change the unique value 'No-Show' to 'Canceled'"
      ],
      "metadata": {
        "id": "Oo57iUWAmYyp"
      }
    },
    {
      "cell_type": "code",
      "source": [
        "hotel['reservation_status']=hotel['reservation_status'].replace('No-Show','Canceled')"
      ],
      "metadata": {
        "id": "jFciZQBliuHO"
      },
      "execution_count": null,
      "outputs": []
    },
    {
      "cell_type": "code",
      "source": [
        "sns.catplot(data=hotel, x='reservation_status', hue='is_canceled', col='hotel', palette='mako', kind='count')\n",
        "plt.show()"
      ],
      "metadata": {
        "id": "ZPMietkYpAJp"
      },
      "execution_count": null,
      "outputs": []
    },
    {
      "cell_type": "markdown",
      "source": [
        "we changed the status  'No-Show' to 'Canceled' to fix the data"
      ],
      "metadata": {
        "id": "gDOZcFOZn2Hn"
      }
    },
    {
      "cell_type": "code",
      "source": [
        "hotel['reservation_status_date'] = pd.to_datetime(hotel['reservation_status_date'])\n",
        "reservation_status_counts = hotel.groupby(['reservation_status_date', 'reservation_status']).size().reset_index(name='count')"
      ],
      "metadata": {
        "id": "YrqfhHielZrj"
      },
      "execution_count": null,
      "outputs": []
    },
    {
      "cell_type": "code",
      "source": [
        "plt.figure(figsize=(12, 10))\n",
        "sns.relplot(data=reservation_status_counts, x='reservation_status_date', y='count', hue='reservation_status', palette='mako',kind='line')\n",
        "plt.title('Trend of Reservation Status Over Time')\n",
        "plt.xlabel('Reservation Status Date')\n",
        "plt.ylabel('Count')\n",
        "plt.xticks(rotation=45)\n",
        "plt.show()"
      ],
      "metadata": {
        "id": "BFL3aUg0pRqm"
      },
      "execution_count": null,
      "outputs": []
    },
    {
      "cell_type": "code",
      "source": [
        "hotel['arrival_date'] = pd.to_datetime(hotel[['arrival_date_year', 'arrival_date_month', 'arrival_date_day_of_month']].astype(str).agg('-'.join, axis=1), format='%Y-%B-%d')"
      ],
      "metadata": {
        "id": "dXDiEusP08_h"
      },
      "execution_count": null,
      "outputs": []
    },
    {
      "cell_type": "code",
      "source": [
        "plt.figure(figsize=(12, 10))\n",
        "reservation_counts2 = hotel.groupby(['arrival_date', 'reservation_status']).size().reset_index(name='count')\n",
        "sns.relplot(data=reservation_counts2, x='arrival_date',y='count', hue='reservation_status', palette='mako',kind='line')\n",
        "plt.title('Trend of Reservation Status Over Time')\n",
        "plt.xlabel('Reservation Status Date')\n",
        "plt.ylabel('Count')\n",
        "plt.xticks(rotation=45)\n",
        "plt.show()"
      ],
      "metadata": {
        "id": "nHfRiWuT4Ywi"
      },
      "execution_count": null,
      "outputs": []
    },
    {
      "cell_type": "markdown",
      "source": [
        "we can check the difference between the variable arrival date and the variable reservation_status_date which suggests that the reservation status date has been going way before 2015"
      ],
      "metadata": {
        "id": "YvRH9LE7-WdJ"
      }
    },
    {
      "cell_type": "code",
      "source": [
        "hotel['period']=hotel['reservation_status_date']-hotel['arrival_date']"
      ],
      "metadata": {
        "id": "YSOZW1o83-Kq"
      },
      "execution_count": null,
      "outputs": []
    },
    {
      "cell_type": "code",
      "source": [
        "hotel['period_days'] = hotel['period'].dt.days"
      ],
      "metadata": {
        "id": "j8fvFIYBAdUG"
      },
      "execution_count": null,
      "outputs": []
    },
    {
      "cell_type": "markdown",
      "source": [
        "we changed here the type of the period variable from  timedelta64[ns] which gave me issues with plotting and gave me errors so we changed it to int days , then we drop period variable"
      ],
      "metadata": {
        "id": "IHjOQTLAAeNQ"
      }
    },
    {
      "cell_type": "code",
      "source": [
        "hotel=hotel.drop('period',axis=1)"
      ],
      "metadata": {
        "id": "ct86m7Zi_cB4"
      },
      "execution_count": null,
      "outputs": []
    },
    {
      "cell_type": "code",
      "source": [
        "sns.displot(data=hotel, x='period_days', bins=100, palette='mako', edgecolor='black')\n",
        "plt.xlabel('Period (Days)')\n",
        "plt.ylabel('Frequency')\n",
        "plt.title('Distribution of Period')\n",
        "plt.xlim(-300, 25)\n",
        "plt.show()"
      ],
      "metadata": {
        "id": "uKozpNerFIVd"
      },
      "execution_count": null,
      "outputs": []
    },
    {
      "cell_type": "code",
      "source": [
        "sns.histplot(data=hotel, x='period_days',hue='is_canceled', bins=100, palette='mako', edgecolor='black',multiple='stack')\n",
        "plt.xlabel('Period (Days)')\n",
        "plt.ylabel('Frequency')\n",
        "plt.title('Distribution of Period')\n",
        "plt.xlim(-320, 30)\n",
        "plt.show()"
      ],
      "metadata": {
        "id": "oDACV1Ph4Q2a"
      },
      "execution_count": null,
      "outputs": []
    },
    {
      "cell_type": "markdown",
      "source": [
        "here we can conclude that from the 80k of 0 days period between arrival day and reservtion status consists mostly of people who booked and arrived at the same day and some of them who canceled the day they booked"
      ],
      "metadata": {
        "id": "Zu-RZfW_BJ9O"
      }
    },
    {
      "cell_type": "code",
      "source": [
        "sns.histplot(hotel,x='stays_in_weekend_nights',hue='is_canceled', palette='mako')"
      ],
      "metadata": {
        "id": "p2aZUAxSIR_D"
      },
      "execution_count": null,
      "outputs": []
    },
    {
      "cell_type": "code",
      "source": [
        "hotel.info()"
      ],
      "metadata": {
        "id": "o4EHHnF9Kptu"
      },
      "execution_count": null,
      "outputs": []
    },
    {
      "cell_type": "code",
      "source": [
        "hotel=hotel.drop('period_days',axis=1)\n",
        "hotel=hotel.drop('arrival_date',axis=1)"
      ],
      "metadata": {
        "id": "ZbtaLQvwLFj6",
        "collapsed": true
      },
      "execution_count": null,
      "outputs": []
    },
    {
      "cell_type": "markdown",
      "source": [
        "we drop the variables period days and arrival date due to the fact that they do not add any real value to the data but give us a further insight of the data to help us understand its particularity"
      ],
      "metadata": {
        "id": "zUlpyuENSEH1"
      }
    },
    {
      "cell_type": "markdown",
      "source": [
        "##Modelisation"
      ],
      "metadata": {
        "id": "NBJGKZ1ZRnYM"
      }
    },
    {
      "cell_type": "markdown",
      "source": [
        "##Preprocessing Steps"
      ],
      "metadata": {
        "id": "afLndQOuSFyH"
      }
    },
    {
      "cell_type": "code",
      "source": [
        "hotel=hotel.drop(\"company\",axis=1)\n",
        "hotel=hotel.drop(\"agent\",axis=1)"
      ],
      "metadata": {
        "id": "xFP_Ykvc_cI-"
      },
      "execution_count": null,
      "outputs": []
    },
    {
      "cell_type": "markdown",
      "source": [
        "we deleted the variables company and agent due to the fact that these variables give no information added to the concelation problem also we can see that they have so many NA's."
      ],
      "metadata": {
        "id": "wsYZ_SdmIBID"
      }
    },
    {
      "cell_type": "code",
      "source": [
        "hotel['is_duplicated']=hotel.duplicated()\n",
        "hotel['is_duplicated']=hotel[['is_duplicated']].astype('int64')"
      ],
      "metadata": {
        "id": "e7uormsZcmx8"
      },
      "execution_count": null,
      "outputs": []
    },
    {
      "cell_type": "code",
      "source": [
        "hotel.duplicated().sum()"
      ],
      "metadata": {
        "id": "fhm8cuzlGyWR"
      },
      "execution_count": null,
      "outputs": []
    },
    {
      "cell_type": "markdown",
      "source": [
        "we realized that the data holds duplication more then 32k"
      ],
      "metadata": {
        "id": "75lRVe70SUJR"
      }
    },
    {
      "cell_type": "code",
      "source": [
        "sns.catplot(hotel,x='is_duplicated',kind='count',palette='mako',hue='is_canceled')\n",
        "hotel['is_duplicated'].value_counts()"
      ],
      "metadata": {
        "id": "B60JNjI-dWZc"
      },
      "execution_count": null,
      "outputs": []
    },
    {
      "cell_type": "markdown",
      "source": [
        "as we can that there almost 25% of our data is duplicated which calls for removal of these dupliacats"
      ],
      "metadata": {
        "id": "A4TwqOUfe0nv"
      }
    },
    {
      "cell_type": "code",
      "source": [
        "hotel_duplicates_0 = hotel[hotel['is_canceled'] == 0].drop_duplicates(subset=hotel.columns.difference(['is_canceled']), keep='first')\n",
        "hotel_filtered = pd.concat([hotel[hotel['is_canceled'] == 1], hotel_duplicates_0])\n",
        "hotel=hotel_filtered"
      ],
      "metadata": {
        "id": "0k7wxtAxe9A8"
      },
      "execution_count": null,
      "outputs": []
    },
    {
      "cell_type": "code",
      "source": [
        "sns.catplot(hotel,x='is_duplicated',kind='count',palette='mako',hue='is_canceled')\n",
        "hotel['is_duplicated'].value_counts()"
      ],
      "metadata": {
        "id": "0vv_HbGg3jiY"
      },
      "execution_count": null,
      "outputs": []
    },
    {
      "cell_type": "markdown",
      "source": [
        "after the preprocessing of the duplication we realized since the data is unbalanced its better to keep the duplicated rows of the data of the unique vallue of is_Canceled 0 and remove the duplications of a the unique value one since they are alot and tge 0s are just few so we balance the data a bit"
      ],
      "metadata": {
        "id": "LHxQBxXBSdO4"
      }
    },
    {
      "cell_type": "markdown",
      "source": [
        "we also checked through the report that there multicolionarity that we need to deal with so we will be removing certain variables"
      ],
      "metadata": {
        "id": "LS6Bdr89hMwN"
      }
    },
    {
      "cell_type": "code",
      "source": [
        "hotel=hotel.drop(columns=['distribution_channel','previous_bookings_not_canceled','reserved_room_type','reservation_status','is_duplicated'])"
      ],
      "metadata": {
        "id": "w3j-2LWOhL0O"
      },
      "execution_count": null,
      "outputs": []
    },
    {
      "cell_type": "markdown",
      "source": [
        "the choice of removing these variable is based on the their affect on performnace and their cause of multi colionarity and that comes to the fact\n",
        "distrubution channel is highly correlated with market segment\n",
        "preveous booking is highly correlated with is_repeated guest\n",
        "reserved room type is highly correlated with assigned room type\n",
        "reservation status is highly correlated with is_canceled\n",
        "and we remove is_duplicated because we used to illustrate the ideas"
      ],
      "metadata": {
        "id": "0GbpKQZaS2RR"
      }
    },
    {
      "cell_type": "code",
      "source": [
        "from statistics import mode\n",
        "mode_couontry=mode(hotel['country'])\n",
        "print(f\"mode of the feature country is: {mode_couontry}\")\n",
        "mode_children=mode(hotel['children'])\n",
        "print(f\"mode of the feature children is: {mode_children}\")"
      ],
      "metadata": {
        "id": "5gV6SRjz_cJB"
      },
      "execution_count": null,
      "outputs": []
    },
    {
      "cell_type": "code",
      "source": [
        "#handling missing values:\n",
        "hotel['country']=hotel['country'].fillna(hotel['country'].mode().iloc[0])\n",
        "hotel['children']=hotel['children'].fillna(hotel['children'].mode().iloc[0])"
      ],
      "metadata": {
        "id": "ffPouLZQ_cJC"
      },
      "execution_count": null,
      "outputs": []
    },
    {
      "cell_type": "markdown",
      "source": [
        "we filled the na using the  mode of both varibales"
      ],
      "metadata": {
        "id": "99bvc-7YTnBN"
      }
    },
    {
      "cell_type": "code",
      "source": [
        "hotel.isnull().sum()"
      ],
      "metadata": {
        "id": "PHrO70Uj_cJD"
      },
      "execution_count": null,
      "outputs": []
    },
    {
      "cell_type": "markdown",
      "source": [
        "we can see now that there is no missing values because we imputed the missing values of both children and country with the mode since the mode of children , country represented 90% of both variables"
      ],
      "metadata": {
        "id": "zRd-vlyMV10l"
      }
    },
    {
      "cell_type": "code",
      "source": [
        "hotel['babies'].replace({9: 0, 10: 0}, inplace=True)"
      ],
      "metadata": {
        "id": "qf4lP0Pe_cJD"
      },
      "execution_count": null,
      "outputs": []
    },
    {
      "cell_type": "markdown",
      "source": [
        "we treated here few outliers that seemed a bit obvious since who would have or bring 9 or 10 children to a hotel that has a majority new wedly couple"
      ],
      "metadata": {
        "id": "hK5NrD1yTuXM"
      }
    },
    {
      "cell_type": "markdown",
      "source": [
        "we can see that some people have 9 and 10 babies which is certainly wrong so we corrected"
      ],
      "metadata": {
        "id": "u4nn25AOZSlW"
      }
    },
    {
      "cell_type": "code",
      "source": [
        "hotel=pd.get_dummies(hotel,columns=['hotel', 'customer_type', 'meal', 'market_segment', 'deposit_type'],dtype='int64')"
      ],
      "metadata": {
        "id": "HTDaMf3uy55F"
      },
      "execution_count": null,
      "outputs": []
    },
    {
      "cell_type": "markdown",
      "source": [
        "we did one hot encoding on this variable since these variables has  very few unique values"
      ],
      "metadata": {
        "id": "gxlzsqEuT67s"
      }
    },
    {
      "cell_type": "code",
      "source": [
        "import category_encoders as ce\n",
        "\n",
        "\n",
        "target_encode_cols = ['arrival_date_month', 'country', 'assigned_room_type']\n",
        "\n",
        "encoder = TargetEncoder()\n",
        "hotel[target_encode_cols] = encoder.fit_transform(hotel[target_encode_cols], hotel['is_canceled'])"
      ],
      "metadata": {
        "id": "8Xa_LwUOtSwr"
      },
      "execution_count": null,
      "outputs": []
    },
    {
      "cell_type": "markdown",
      "source": [
        "we used target encoding because these variables gets very affected by the target variable and they have so many unique values so it only make sense to use target variable since one hot encoding would result in so many extra variable that would reslut in extra unnecessary calculations"
      ],
      "metadata": {
        "id": "oSqNNsYdUFnI"
      }
    },
    {
      "cell_type": "code",
      "source": [
        "hotel=hotel.drop('reservation_status_date',axis=1)"
      ],
      "metadata": {
        "id": "fOCfrZsy_cJG"
      },
      "execution_count": null,
      "outputs": []
    },
    {
      "cell_type": "markdown",
      "source": [
        "we did drop firtsly that the model wont accept its type it has a lot of outliers we already have sufficient information about the hotel cancelation"
      ],
      "metadata": {
        "id": "bNzoBqIQKNKj"
      }
    },
    {
      "cell_type": "code",
      "source": [
        "hotel.info()"
      ],
      "metadata": {
        "id": "0KrM8oQ-_cJH"
      },
      "execution_count": null,
      "outputs": []
    },
    {
      "cell_type": "code",
      "source": [
        "from sklearn.preprocessing import StandardScaler\n",
        "numerical_features = ['lead_time', 'arrival_date_year', 'arrival_date_week_number',\n",
        "                      'arrival_date_day_of_month', 'stays_in_weekend_nights',\n",
        "                      'stays_in_week_nights', 'adults', 'children', 'babies',\n",
        "                      'is_repeated_guest', 'previous_cancellations',\n",
        "                       'booking_changes',\n",
        "                      'days_in_waiting_list', 'adr', 'required_car_parking_spaces',\n",
        "                      'total_of_special_requests']\n",
        "scaler = StandardScaler()\n",
        "hotel[numerical_features] = scaler.fit_transform(hotel[numerical_features])"
      ],
      "metadata": {
        "id": "evcAzoHn_cJI"
      },
      "execution_count": null,
      "outputs": []
    },
    {
      "cell_type": "markdown",
      "source": [
        "we scaled only numeric un altered variable since it wouldnt make sense to alter variables that were already processed by one encoding or target encoding"
      ],
      "metadata": {
        "id": "_-X6mao7UaqP"
      }
    },
    {
      "cell_type": "code",
      "source": [
        "hotel.info()"
      ],
      "metadata": {
        "id": "YcEjWsvcKd1I"
      },
      "execution_count": null,
      "outputs": []
    },
    {
      "cell_type": "code",
      "source": [
        "X = hotel.drop(columns=['is_canceled']).to_numpy()\n",
        "y = hotel['is_canceled'].to_numpy()"
      ],
      "metadata": {
        "id": "yX0ubySw_cJJ"
      },
      "execution_count": null,
      "outputs": []
    },
    {
      "cell_type": "code",
      "source": [
        "X_train, X_test, y_train, y_test = train_test_split(X, y, test_size=0.2, random_state=42)"
      ],
      "metadata": {
        "id": "14I56qGK_cJJ"
      },
      "execution_count": null,
      "outputs": []
    },
    {
      "cell_type": "markdown",
      "source": [
        "##Model"
      ],
      "metadata": {
        "id": "89YC0xbCffk-"
      }
    },
    {
      "cell_type": "code",
      "source": [
        "from keras.models import Sequential\n",
        "model = Sequential()\n",
        "model.add(Dense(10, activation=\"relu\", input_dim=X_train.shape[1]))\n",
        "model.add(Dense(10, activation=\"relu\"))\n",
        "model.add(Dense(10, activation=\"relu\"))\n",
        "model.add(Dense(1, activation=\"sigmoid\"))\n",
        "model.compile(optimizer=\"adam\", loss=\"binary_crossentropy\", metrics=['accuracy'])"
      ],
      "metadata": {
        "id": "4FpzBisw_cJK"
      },
      "execution_count": null,
      "outputs": []
    },
    {
      "cell_type": "markdown",
      "source": [
        "here as we can see that we took 2 hidden layers and to prevent our model from any overfitting we made sure to use: L2 regurlization , class weights and early stopping to menitor our model and not let it learn the noise of the data or create pattern that doesnt exist"
      ],
      "metadata": {
        "id": "JVMtz26lK7Cy"
      }
    },
    {
      "cell_type": "code",
      "source": [
        "history = model.fit(X_train, y_train, epochs=100, batch_size=32, validation_split=0.2)\n",
        "model.summary()"
      ],
      "metadata": {
        "id": "6m2JLVs8_cJL"
      },
      "execution_count": null,
      "outputs": []
    },
    {
      "cell_type": "markdown",
      "source": [
        "our model resulted in 85% accuracy in training data,which is impressive since we had so many problems to deal with initially."
      ],
      "metadata": {
        "id": "1J4_sU2rUoRa"
      }
    },
    {
      "cell_type": "markdown",
      "source": [],
      "metadata": {
        "id": "1l759me1UoET"
      }
    },
    {
      "cell_type": "markdown",
      "source": [
        "##Results"
      ],
      "metadata": {
        "id": "-APEKvYEfpSd"
      }
    },
    {
      "cell_type": "code",
      "source": [
        "tr_loss = history.history['loss']\n",
        "val_loss = history.history['val_loss']\n",
        "index_loss = np.argmin(val_loss)\n",
        "val_lowest = val_loss[index_loss]\n",
        "Epochs = [i+1 for i in range(len(tr_loss))]\n",
        "loss_label = f'best epoch= {str(index_loss + 1)}'\n",
        "val_lowest"
      ],
      "metadata": {
        "id": "PB_xmwd5_cJL"
      },
      "execution_count": null,
      "outputs": []
    },
    {
      "cell_type": "code",
      "source": [
        "import seaborn as sns\n",
        "import matplotlib.pyplot as plt\n",
        "\n",
        "plt.figure(figsize=(20, 8))\n",
        "sns.set_style('whitegrid')\n",
        "\n",
        "\n",
        "plt.scatter(index_loss + 1, val_lowest, s=150, c='blue', label=loss_label)\n",
        "sns.lineplot(x=Epochs, y=tr_loss, color='red', label='Training loss')\n",
        "sns.lineplot(x=Epochs, y=val_loss, color='green', label='Validation loss')\n",
        "plt.title('Training and Validation Loss')\n",
        "plt.xlabel('Epochs')\n",
        "plt.ylabel('Loss')\n",
        "plt.legend()\n",
        "plt.ylim(min(y),max(y))\n",
        "\n",
        "plt.tight_layout()\n",
        "plt.show()"
      ],
      "metadata": {
        "id": "0HKTK1GS_cJN"
      },
      "execution_count": null,
      "outputs": []
    },
    {
      "cell_type": "markdown",
      "source": [
        "the 96 epochs had both least low value of loss , and better accuracy"
      ],
      "metadata": {
        "id": "43sR8Y0sU0ZC"
      }
    },
    {
      "cell_type": "code",
      "source": [
        "y_pred=model.predict(X_test)\n",
        "y_pred=(y_pred>0.5)"
      ],
      "metadata": {
        "id": "BflwRQjD_cJN"
      },
      "execution_count": null,
      "outputs": []
    },
    {
      "cell_type": "code",
      "source": [
        "from sklearn.metrics import r2_score,accuracy_score\n",
        "\n",
        "R2 = r2_score(y_test, y_pred)\n",
        "print(\"R2 Score=\",R2 )"
      ],
      "metadata": {
        "id": "OfGqHlcT_cJO"
      },
      "execution_count": null,
      "outputs": []
    },
    {
      "cell_type": "code",
      "source": [
        "from sklearn.metrics import confusion_matrix"
      ],
      "metadata": {
        "id": "VxFyIM60_cJP"
      },
      "execution_count": null,
      "outputs": []
    },
    {
      "cell_type": "code",
      "source": [
        "Accurcy = accuracy_score(y_test, y_pred)\n",
        "print(\"Accurcy=\",Accurcy )"
      ],
      "metadata": {
        "id": "53r5CGoA_cJP"
      },
      "execution_count": null,
      "outputs": []
    },
    {
      "cell_type": "markdown",
      "source": [
        "we got 85% accuracy on testing data which uhnderstandable"
      ],
      "metadata": {
        "id": "jPzqQUqhVE39"
      }
    },
    {
      "cell_type": "code",
      "source": [
        "from sklearn.metrics import classification_report, confusion_matrix"
      ],
      "metadata": {
        "id": "NFdZi7sn_cJQ"
      },
      "execution_count": null,
      "outputs": []
    },
    {
      "cell_type": "code",
      "source": [
        "conf_matrix=confusion_matrix(y_test,y_pred)\n",
        "conf_matrix"
      ],
      "metadata": {
        "id": "moOjaHEg_cJQ"
      },
      "execution_count": null,
      "outputs": []
    },
    {
      "cell_type": "code",
      "source": [
        "sns.heatmap(conf_matrix,annot=True, fmt='d')\n",
        "plt.show()"
      ],
      "metadata": {
        "id": "0Hc99AFQ_cJR"
      },
      "execution_count": null,
      "outputs": []
    },
    {
      "cell_type": "code",
      "source": [
        "# Define a function to plot the confusion matrix as a heatmap\n",
        "def plot_confusion_matrix(y_true, y_pred):\n",
        "    cm = confusion_matrix(y_true, y_pred)\n",
        "    group_names = [\"True Neg\", \"False Pos\", \"False Neg\", \"True Pos\"]\n",
        "    group_counts = [\"{0:0.0f}\".format(value) for value in cm.flatten()]\n",
        "    group_percentages = [\"{0:.2%}\".format(value) for value in cm.flatten()/np.sum(cm)]\n",
        "    labels = [f\"{v1}\\n{v2}\\n{v3}\" for v1, v2 , v3 in zip(group_names,group_counts,group_percentages)]\n",
        "    labels = np.asarray(labels).reshape(2,2)\n",
        "\n",
        "    plt.subplots(figsize = (5,3))\n",
        "    ax = sns.heatmap(cm/np.sum(cm), annot=labels, fmt=\"\", cmap='Blues')\n",
        "    ax.set_xlabel('Predicted Class')\n",
        "    ax.set_ylabel('Actual Class')\n",
        "    ax.set_title(f'Confusion matrix')\n",
        "    plt.show()"
      ],
      "metadata": {
        "id": "K80uKW9o_cJR"
      },
      "execution_count": null,
      "outputs": []
    },
    {
      "cell_type": "code",
      "source": [
        "from sklearn.metrics import classification_report, confusion_matrix"
      ],
      "metadata": {
        "id": "ieUcap6c_cJS"
      },
      "execution_count": null,
      "outputs": []
    },
    {
      "cell_type": "code",
      "source": [
        "print(f\"Classification report:\\n{classification_report(y_test, y_pred)}\")\n",
        "print(\"\")\n",
        "print(\"_\"*12)\n",
        "print(\"\")\n",
        "\n",
        "# Plot the confusion matrix as a heatmap\n",
        "plot_confusion_matrix(y_test, y_pred)"
      ],
      "metadata": {
        "id": "Vqm3M2j5_cJS"
      },
      "execution_count": null,
      "outputs": []
    },
    {
      "cell_type": "markdown",
      "source": [
        "we can see that our model is generalized since it gave good precesion and recall and f1 score that helps predicted well our model"
      ],
      "metadata": {
        "id": "uXAGeG25cU9A"
      }
    },
    {
      "cell_type": "code",
      "source": [
        "!pip install keras-tuner"
      ],
      "metadata": {
        "id": "HdvmpDDgzBJc"
      },
      "execution_count": null,
      "outputs": []
    },
    {
      "cell_type": "code",
      "source": [
        "from kerastuner.tuners import RandomSearch\n",
        "from tensorflow.keras import layers\n",
        "from tensorflow import keras\n",
        "from tensorflow.keras.losses import MeanSquaredLogarithmicError\n",
        "from kerastuner import Objective"
      ],
      "metadata": {
        "id": "W3iGhVoSzlWH"
      },
      "execution_count": null,
      "outputs": []
    },
    {
      "cell_type": "code",
      "source": [
        "def build_model(hp):\n",
        "    model_tuner = Sequential()\n",
        "    for i in range(hp.Int('num_layers', 2, 10)):\n",
        "        model_tuner.add(Dense(units=hp.Int('units_' + str(i),\n",
        "                                           min_value=32,\n",
        "                                           max_value=512,\n",
        "                                           step=32),\n",
        "                              activation='relu'))\n",
        "    model_tuner.add(Dense(1, activation='sigmoid'))\n",
        "    model_tuner.compile(\n",
        "        optimizer=Adam(hp.Choice('learning_rate', [1e-2, 1e-3, 1e-4])),\n",
        "        loss='binary_crossentropy',\n",
        "        metrics=['accuracy'])\n",
        "    return model_tuner"
      ],
      "metadata": {
        "id": "zK0_X8SZzsnf"
      },
      "execution_count": null,
      "outputs": []
    },
    {
      "cell_type": "code",
      "source": [
        "import keras_tuner as kt"
      ],
      "metadata": {
        "id": "5SdVs0bECkt8"
      },
      "execution_count": null,
      "outputs": []
    },
    {
      "cell_type": "code",
      "source": [
        "tuner = kt.RandomSearch(\n",
        "    build_model,\n",
        "    objective='val_accuracy',\n",
        "    max_trials=7,\n",
        "    executions_per_trial=3,\n",
        "    directory='my_dir',\n",
        "    project_name='churn_classification')"
      ],
      "metadata": {
        "id": "u9w9jyiUz39_"
      },
      "execution_count": null,
      "outputs": []
    },
    {
      "cell_type": "code",
      "source": [
        "tuner.search_space_summary()"
      ],
      "metadata": {
        "id": "9o4JEFSLz9A8"
      },
      "execution_count": null,
      "outputs": []
    },
    {
      "cell_type": "code",
      "source": [
        "tuner.search(X_train, y_train, epochs=50, validation_split=0.2)"
      ],
      "metadata": {
        "id": "VpM6ktGy0F2D"
      },
      "execution_count": null,
      "outputs": []
    },
    {
      "cell_type": "code",
      "source": [
        "best_model = tuner.get_best_models(num_models=1)[0]\n",
        "input_shape = X_train.shape[1:]\n",
        "best_model.build(input_shape=(None, *input_shape))\n",
        "best_model.summary()"
      ],
      "metadata": {
        "id": "z4F9DLbi3b83"
      },
      "execution_count": null,
      "outputs": []
    },
    {
      "cell_type": "code",
      "source": [
        "test_loss, test_acc = best_model.evaluate(X_test, y_test)\n",
        "print(f\"Test Accuracy: {test_acc}\")"
      ],
      "metadata": {
        "id": "cI2TJDvY3gTC"
      },
      "execution_count": null,
      "outputs": []
    },
    {
      "cell_type": "code",
      "source": [
        "y_pred = best_model.predict(X_test)\n",
        "y_pred = (y_pred > 0.5)"
      ],
      "metadata": {
        "id": "VbY_uHkk3nNu"
      },
      "execution_count": null,
      "outputs": []
    },
    {
      "cell_type": "code",
      "source": [
        "from sklearn.metrics import confusion_matrix, classification_report, accuracy_score\n",
        "\n",
        "print(f\"Accuracy: {accuracy_score(y_test, y_pred)}\")\n",
        "print(confusion_matrix(y_test, y_pred))\n",
        "print(classification_report(y_test, y_pred))"
      ],
      "metadata": {
        "id": "M9ujG00u3n03"
      },
      "execution_count": null,
      "outputs": []
    },
    {
      "cell_type": "code",
      "source": [
        "def plot_confusion_matrix(y_true, y_pred):\n",
        "    cm = confusion_matrix(y_true, y_pred)\n",
        "    group_names = [\"True Neg\", \"False Pos\", \"False Neg\", \"True Pos\"]\n",
        "    group_counts = [\"{0:0.0f}\".format(value) for value in cm.flatten()]\n",
        "    group_percentages = [\"{0:.2%}\".format(value) for value in cm.flatten()/np.sum(cm)]\n",
        "    labels = [f\"{v1}\\n{v2}\\n{v3}\" for v1, v2 , v3 in zip(group_names,group_counts,group_percentages)]\n",
        "    labels = np.asarray(labels).reshape(2,2)\n",
        "\n",
        "    plt.subplots(figsize = (5,3))\n",
        "    ax = sns.heatmap(cm/np.sum(cm), annot=labels, fmt=\"\", cmap='Blues')\n",
        "    ax.set_xlabel('Predicted Class')\n",
        "    ax.set_ylabel('Actual Class')\n",
        "    ax.set_title(f'Confusion Matrix')\n",
        "    plt.show()\n",
        "\n",
        "plot_confusion_matrix(y_test, y_pred)"
      ],
      "metadata": {
        "id": "MjHzKAg43q34"
      },
      "execution_count": null,
      "outputs": []
    },
    {
      "cell_type": "markdown",
      "source": [
        "at the end we tried hyperparametre tuning that would surely result in a higher accuracy from what we can see on the model yet we didnt continue due to the fact it took more then 3 hours computing , so i stopped it ."
      ],
      "metadata": {
        "id": "2Af3YDWmVWV8"
      }
    },
    {
      "cell_type": "markdown",
      "source": [
        "we can understand now that our hotel classification problem had so many setbacks and problems that were hard to deal with yet we finished on time\n",
        "the problems along the way were mainly comprimised in\n",
        "-data duplication\n",
        "-data unbalancing\n",
        "-multi correlation\n",
        "-so many outliers\n",
        "future prepartion for someone who want to treat this data:\n",
        "use smote etchnics  to balance th data so it creates new observtaions without duplications"
      ],
      "metadata": {
        "id": "L7fCmWg3VpW0"
      }
    }
  ]
}